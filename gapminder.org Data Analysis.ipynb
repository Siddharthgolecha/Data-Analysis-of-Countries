{
 "cells": [
  {
   "cell_type": "code",
   "execution_count": 1,
   "metadata": {},
   "outputs": [],
   "source": [
    "import numpy as np\n",
    "import pandas as pd\n",
    "import unicodecsv\n",
    "\n",
    "def read_csv(filename):\n",
    "    with open(filename, 'rb') as f:\n",
    "        reader = unicodecsv.DictReader(f)\n",
    "        return pd.Series(reader)"
   ]
  },
  {
   "cell_type": "code",
   "execution_count": 2,
   "metadata": {},
   "outputs": [],
   "source": [
    "female_completion_rate=read_csv('female_completion_rate.csv')\n",
    "male_completion_rate=read_csv('male_completion_rate.csv')\n",
    "life_expectancy=read_csv('life_expectancy.csv')\n",
    "gdp_per_capita=read_csv('gdp_per_capita.csv')\n",
    "employment_above_15=read_csv('employment_above_15.csv')"
   ]
  },
  {
   "cell_type": "code",
   "execution_count": 3,
   "metadata": {},
   "outputs": [],
   "source": [
    "def parse_maybe_float(i):\n",
    "    try:\n",
    "        return float(i)\n",
    "    except:\n",
    "        return np.nan\n",
    "    \n",
    "def parse_data(series_name):\n",
    "    series = pd.Series()\n",
    "    for dictionary in series_name:\n",
    "        new_dictionary = dict()\n",
    "        country = None\n",
    "        for col , row in dictionary.items():\n",
    "            if(col == 'Country'):\n",
    "                country=row\n",
    "            else:\n",
    "                new_dictionary[int(col)]=parse_maybe_float(row)\n",
    "        sorted(new_dictionary)\n",
    "        series[country] = pd.Series(new_dictionary).dropna()\n",
    "        series[country]\n",
    "    return series         "
   ]
  },
  {
   "cell_type": "code",
   "execution_count": 4,
   "metadata": {},
   "outputs": [],
   "source": [
    "female_completion_rate = parse_data(female_completion_rate)\n",
    "male_completion_rate = parse_data(male_completion_rate)\n",
    "life_expectancy = parse_data(life_expectancy)\n",
    "gdp_per_capita = parse_data(gdp_per_capita)\n",
    "employment_above_15 = parse_data(employment_above_15)\n"
   ]
  },
  {
   "cell_type": "markdown",
   "metadata": {},
   "source": [
    "return the values of common indexes "
   ]
  },
  {
   "cell_type": "code",
   "execution_count": 19,
   "metadata": {},
   "outputs": [],
   "source": [
    "import seaborn as sns\n",
    "import matplotlib.pyplot as plt\n",
    "%matplotlib qt\n",
    "\n",
    "def common_indexes(series , countries):\n",
    "   # i=0\n",
    "    common = series[countries[0]].keys()\n",
    "    for country in countries:\n",
    "        country_series_index= series[country].keys()\n",
    "        common = common.intersection(country_series_index)\n",
    "    return common\n",
    "\n",
    "def plotting_values(series , country , indexes):\n",
    "    values = []\n",
    "    for index in indexes:\n",
    "        values.append(series[country][index])\n",
    "    return values\n",
    "\n",
    "def autolabel(rects, ax):\n",
    "    # Get y-axis height to calculate label position from.\n",
    "    (y_bottom, y_top) = ax.get_ylim()\n",
    "    y_height = y_top - y_bottom\n",
    "\n",
    "    for rect in rects:\n",
    "        height = rect.get_height()\n",
    "\n",
    "        # Fraction of axis height taken up by this rectangle\n",
    "        p_height = (height / y_height)\n",
    "\n",
    "        # If we can fit the label above the column, do that;\n",
    "        # otherwise, put it inside the column.\n",
    "        if p_height > 0.95:\n",
    "            label_position = height - (y_height * 0.05)\n",
    "        else:\n",
    "            label_position = height + (y_height * 0.01)\n",
    "\n",
    "        ax.text(rect.get_x() + rect.get_width()/2., label_position,\n",
    "                '%.2f' % round(height,2),\n",
    "                ha='center', va='bottom', fontsize = 6)"
   ]
  },
  {
   "cell_type": "code",
   "execution_count": 20,
   "metadata": {},
   "outputs": [],
   "source": [
    "def plot_graph(countries , world_compare, new_window):\n",
    "    series_list = [female_completion_rate,male_completion_rate,life_expectancy,gdp_per_capita,employment_above_15]\n",
    "    y_label = {'female_completion_rate':'Percentage of female students completing Primary School','male_completion_rate':'Percentage of male students completing Primary School',\n",
    "              'life_expectancy':'The average Precentage of years a newborn child would live','gdp_per_capita':'Gross Domestic Product per capita in 2000 US$',\n",
    "              'employment_above_15':'Percentage of total population, age above 15, that has been employed'}\n",
    "    if world_compare:\n",
    "        countries.append('World Average')\n",
    "    if new_window:\n",
    "        %matplotlib qt\n",
    "    else:\n",
    "        %matplotlib inline\n",
    "    for j in range(5):\n",
    "        series = series_list[j]\n",
    "        series_common_indexes = list(common_indexes(series , countries))\n",
    "        series_common_indexes = series_common_indexes[-10:]\n",
    "        countries_series_values = {}\n",
    "        for country in countries:\n",
    "            countries_series_values[country] = plotting_values(series,country,series_common_indexes)\n",
    "        x = np.arange(len(series_common_indexes))  # the label locations\n",
    "        width = 0.25  # the width of the bars\n",
    "        n = len(countries)\n",
    "        fig, ax = plt.subplots(figsize=(9,6))\n",
    "\n",
    "        # Add some text for labels, title and custom x-axis tick labels, etc.\n",
    "        ax.set_xlabel('Year')\n",
    "        ax.set_ylabel(list(y_label.values())[j])\n",
    "        ax.set_title('Comparision of {} in different countries\\nSource : gapminder.org\\nPresented by : Siddharth Golecha'.format(list(y_label.keys())[j]))\n",
    "        ax.set_xticks(x)\n",
    "        ax.set_xticklabels(series_common_indexes)\n",
    "        i= width * (n-1)/2\n",
    "        for country,countries_series in countries_series_values.items():\n",
    "            rect = ax.bar(x + i,countries_series, width, label=country)\n",
    "            autolabel(rect,ax)\n",
    "            i -= width\n",
    "        ax.legend()\n",
    "        fig.tight_layout()\n",
    "        plt.show(block=False)"
   ]
  },
  {
   "cell_type": "code",
   "execution_count": 21,
   "metadata": {},
   "outputs": [
    {
     "name": "stdout",
     "output_type": "stream",
     "text": [
      "Enter name of the countries: India Pakistan\n"
     ]
    }
   ],
   "source": [
    "countries = list(raw_input(\"Enter name of the countries: \").split())\n",
    "average_option = input(\"Do you want the data to be compared with mean of other countries:\").casefold()\n",
    "if average_option=='yes':\n",
    "    world = True\n",
    "else:\n",
    "    world = False\n",
    "new_window_option = input(\"Do you want the graph to open in new window:\").casefold()\n",
    "if new_window_option =='yes':\n",
    "    new_window = True\n",
    "else:\n",
    "    new_window = False\n",
    "plot_graph(countries,world,new_window)"
   ]
  },
  {
   "cell_type": "code",
   "execution_count": null,
   "metadata": {},
   "outputs": [],
   "source": []
  },
  {
   "cell_type": "code",
   "execution_count": null,
   "metadata": {},
   "outputs": [],
   "source": []
  }
 ],
 "metadata": {
  "anaconda-cloud": {},
  "kernelspec": {
   "display_name": "Python [conda env:DAND] *",
   "language": "python",
   "name": "conda-env-DAND-py"
  },
  "language_info": {
   "codemirror_mode": {
    "name": "ipython",
    "version": 2
   },
   "file_extension": ".py",
   "mimetype": "text/x-python",
   "name": "python",
   "nbconvert_exporter": "python",
   "pygments_lexer": "ipython2",
   "version": "2.7.17"
  }
 },
 "nbformat": 4,
 "nbformat_minor": 2
}
